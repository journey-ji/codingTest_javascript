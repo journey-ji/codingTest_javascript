{
 "cells": [
  {
   "attachments": {},
   "cell_type": "markdown",
   "metadata": {},
   "source": [
    "문제 11 : for 를 이용한 기본 활용\n",
    "1부터 100까지 더하는 code 를 완성하시오\n"
   ]
  },
  {
   "cell_type": "code",
   "execution_count": 1,
   "metadata": {},
   "outputs": [
    {
     "name": "stdout",
     "output_type": "stream",
     "text": [
      "5050\n"
     ]
    }
   ],
   "source": [
    "s = 0\n",
    "for i in range(1,101):\n",
    "    s +=i\n",
    "print(s)"
   ]
  },
  {
   "attachments": {},
   "cell_type": "markdown",
   "metadata": {},
   "source": [
    "문제 12 : 게임 캐릭터 클래스 만들기\n",
    "\n",
    "클래스를 작성하여 캐릭터 능력치와 파이어볼이 출력되게 하시오\n",
    "\n"
   ]
  },
  {
   "cell_type": "code",
   "execution_count": 3,
   "metadata": {},
   "outputs": [
    {
     "name": "stdout",
     "output_type": "stream",
     "text": [
      "545 210 10\n",
      "파이어볼\n"
     ]
    }
   ],
   "source": [
    "class Wizard:\n",
    "  def __init__(self,health,mana,armor) -> None:\n",
    "    self.health =health\n",
    "    self.mana = mana\n",
    "    self.armor = armor\n",
    "  \n",
    "  def attack(self):\n",
    "    print('파이어볼')\n",
    "\n",
    "  \n",
    "  \n",
    "x = Wizard(health=545,mana=210,armor=10)\n",
    "print(x.health,x.mana,x.armor)\n",
    "x.attack()"
   ]
  },
  {
   "attachments": {},
   "cell_type": "markdown",
   "metadata": {},
   "source": [
    "문제 13 : 몇 번째 행성인가요?\n",
    "태양계의 n 번째 행성을 알려주는 코드를 작성하세요"
   ]
  },
  {
   "cell_type": "code",
   "execution_count": 5,
   "metadata": {},
   "outputs": [
    {
     "name": "stdout",
     "output_type": "stream",
     "text": [
      "수성\n"
     ]
    }
   ],
   "source": [
    "def solution(num):\n",
    "  planet = ['수성','금성','지구','화성','목성','토성','천왕성','해왕성']\n",
    "  print(planet[num-1])\n",
    "\n",
    "solution(1)"
   ]
  },
  {
   "attachments": {},
   "cell_type": "markdown",
   "metadata": {},
   "source": [
    "문제 14 : 3의 배수인가요?\n",
    "랜덤한 숫자 n이 주어지면,\n",
    "3의 배수면 '짝'을 \n",
    "3의 배수가 아니면 n을 그대로 출력해주세요."
   ]
  },
  {
   "cell_type": "code",
   "execution_count": 7,
   "metadata": {},
   "outputs": [
    {
     "name": "stdout",
     "output_type": "stream",
     "text": [
      "짝\n",
      "10\n"
     ]
    }
   ],
   "source": [
    "def solution(n):\n",
    "    if(n%3==0):\n",
    "        print('짝')\n",
    "    else:\n",
    "        print(n)\n",
    "\n",
    "solution(36)\n",
    "solution(10)"
   ]
  },
  {
   "cell_type": "markdown",
   "metadata": {},
   "source": [
    "문제 15 : 자기소개\n",
    "'김다정'이라는 이름이 입력되면 \n",
    "안녕하세요. 저는 김다정입니다. 를 출력해주세요"
   ]
  },
  {
   "cell_type": "code",
   "execution_count": 10,
   "metadata": {},
   "outputs": [
    {
     "name": "stdout",
     "output_type": "stream",
     "text": [
      "안녕하세요. 저는 지창언입니다.\n"
     ]
    }
   ],
   "source": [
    "def solution(name):\n",
    "    print('안녕하세요. 저는 '+name+'입니다.')\n",
    "\n",
    "solution('지창언')"
   ]
  },
  {
   "attachments": {},
   "cell_type": "markdown",
   "metadata": {},
   "source": [
    "문제 16 : 로꾸꺼\n",
    "문장이 입력되면 거꾸로 출력하는 프로그램을 만드세요"
   ]
  },
  {
   "cell_type": "code",
   "execution_count": 13,
   "metadata": {},
   "outputs": [
    {
     "name": "stdout",
     "output_type": "stream",
     "text": [
      "['거', '꾸', '로']\n"
     ]
    }
   ],
   "source": [
    "def solution(stringInput):\n",
    "  print(list(stringInput).reverse())\n",
    "\n",
    "\n",
    "solution('거꾸로')"
   ]
  }
 ],
 "metadata": {
  "kernelspec": {
   "display_name": "Python 3",
   "language": "python",
   "name": "python3"
  },
  "language_info": {
   "codemirror_mode": {
    "name": "ipython",
    "version": 3
   },
   "file_extension": ".py",
   "mimetype": "text/x-python",
   "name": "python",
   "nbconvert_exporter": "python",
   "pygments_lexer": "ipython3",
   "version": "3.10.10"
  },
  "orig_nbformat": 4
 },
 "nbformat": 4,
 "nbformat_minor": 2
}
