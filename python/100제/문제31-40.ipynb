{
 "cells": [
  {
   "cell_type": "code",
   "execution_count": 1,
   "metadata": {},
   "outputs": [],
   "source": [
    "data = input()\n",
    "word = input()\n"
   ]
  },
  {
   "attachments": {},
   "cell_type": "markdown",
   "metadata": {},
   "source": [
    "문제 32 : 문자열 만들기\n",
    "\n",
    "문자열을 입력받으면 단어의 갯수를 출력하는 프로그램을 작성해 주세요.\n",
    "\n",
    "입력 : 안녕하세요. 저는 제주대학교 컴퓨터공학전공 혜림입니다.\n",
    "출력 : 5\n"
   ]
  },
  {
   "cell_type": "code",
   "execution_count": 12,
   "metadata": {},
   "outputs": [
    {
     "name": "stdout",
     "output_type": "stream",
     "text": [
      "['안녕하세요.', '', '', '', '', '창언쓰']\n",
      "['안녕하세요.', '창언쓰']\n",
      "2\n"
     ]
    }
   ],
   "source": [
    "data = '안녕하세요.     창언쓰'\n",
    "splitData = data.split(' ')\n",
    "\n",
    "print(splitData)\n",
    "for i in range(splitData.count('')):\n",
    "    splitData.remove('')\n",
    "\n",
    "print(splitData)\n",
    "print(len(splitData))\n"
   ]
  },
  {
   "cell_type": "code",
   "execution_count": null,
   "metadata": {},
   "outputs": [],
   "source": []
  }
 ],
 "metadata": {
  "kernelspec": {
   "display_name": "Python 3",
   "language": "python",
   "name": "python3"
  },
  "language_info": {
   "codemirror_mode": {
    "name": "ipython",
    "version": 3
   },
   "file_extension": ".py",
   "mimetype": "text/x-python",
   "name": "python",
   "nbconvert_exporter": "python",
   "pygments_lexer": "ipython3",
   "version": "3.10.2"
  },
  "orig_nbformat": 4,
  "vscode": {
   "interpreter": {
    "hash": "aee8b7b246df8f9039afb4144a1f6fd8d2ca17a180786b69acc140d282b71a49"
   }
  }
 },
 "nbformat": 4,
 "nbformat_minor": 2
}
