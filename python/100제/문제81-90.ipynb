{
 "cells": [
  {
   "cell_type": "code",
   "execution_count": null,
   "metadata": {},
   "outputs": [],
   "source": []
  },
  {
   "cell_type": "markdown",
   "metadata": {},
   "source": [
    "문제 81 : 지뢰찾기\n",
    "\n",
    "입력값에서 지뢰(1)는 f로, 주위는 *로 표시하여 출력하기\n"
   ]
  },
  {
   "cell_type": "code",
   "execution_count": 9,
   "metadata": {},
   "outputs": [
    {
     "name": "stdout",
     "output_type": "stream",
     "text": [
      "[['*', 'f', '*', '0', '0'], ['0', '*', '0', '*', '0'], ['0', '0', '*', 'f', '*'], ['0', '*', 'f', '*', '0'], ['0', '0', '*', '0', '0']]\n"
     ]
    }
   ],
   "source": [
    "value = '''0 1 0 0 0\n",
    "           0 0 0 0 0\n",
    "           0 0 0 1 0\n",
    "           0 0 1 0 0\n",
    "           0 0 0 0 0'''\n",
    "\n",
    "value = value.replace('1','f')\n",
    "l = [i.strip() for i in value.split('\\n')]\n",
    "l = [i.split(' ') for i in l]\n",
    "\n",
    "\n",
    "count = 0\n",
    "for i in l:\n",
    "    for j in i:\n",
    "        if j =='f':\n",
    "            if i.index(j)>0:\n",
    "                i[i.index(j)-1] = '*'\n",
    "            if i.index(j)<4:\n",
    "                i[i.index(j)+1] = '*'\n",
    "            if count > 0:\n",
    "                l[count-1][i.index(j)] = '*'\n",
    "            if count < 4:\n",
    "                l[count+1][i.index(j)] = '*'\n",
    "\n",
    "    count +=1\n",
    "print(l)\n",
    "\n",
    "\n",
    "\n"
   ]
  },
  {
   "cell_type": "code",
   "execution_count": 11,
   "metadata": {},
   "outputs": [
    {
     "name": "stdout",
     "output_type": "stream",
     "text": [
      "1\n",
      "13\n",
      "17\n",
      "['*', 'f', '*', '0', '0', '0', '*', '0', '*', '0', '0', '0', '*', 'f', '*', '0', '*', 'f', '*', '0', '0', '0', '*', '0', '0']\n"
     ]
    }
   ],
   "source": [
    "value = '''0 1 0 0 0 0 0 0 0 0 0 0 0 1 0 0 0 1 0 0 0 0 0 0 0'''\n",
    "value = value.replace('1','f')\n",
    "l = value.split(' ')\n",
    "for i in range(len(l)):\n",
    "    if l[i] =='f':\n",
    "        print(i)\n",
    "        if i//5 !=0:\n",
    "            l[i-5] = '*'\n",
    "        if i//5 !=4:\n",
    "            l[i+5] = '*'\n",
    "        if i%5 !=0:\n",
    "            l[i-1] = '*'\n",
    "        if i%5 !=4:\n",
    "            l[i+1] = '*'\n",
    "print(l)"
   ]
  },
  {
   "attachments": {},
   "cell_type": "markdown",
   "metadata": {},
   "source": [
    "문제 82 : 수학 괄호 파싱\n",
    "\n",
    "괄호가 제대로 들어있는지 아닌지 판단해서 True or False를 반환"
   ]
  },
  {
   "cell_type": "code",
   "execution_count": 21,
   "metadata": {},
   "outputs": [
    {
     "data": {
      "text/plain": [
       "False"
      ]
     },
     "execution_count": 21,
     "metadata": {},
     "output_type": "execute_result"
    }
   ],
   "source": [
    "def solution(e):\n",
    "    m = {\n",
    "        ')':'(',\n",
    "        '}':'{',\n",
    "        ']':'[',\n",
    "    }\n",
    "    stack=[]\n",
    "    \n",
    "    for i in e:\n",
    "        if i in ['(','{']:\n",
    "            stack.append(i)\n",
    "        elif i in m:\n",
    "            if len(stack)==0:\n",
    "                return False\n",
    "            else:\n",
    "                if(stack.pop()!=m[i]):\n",
    "                    return False\n",
    "                \n",
    "                \n",
    "    return len(stack)==0\n",
    "\n",
    "solution('(({}{}}{}))')"
   ]
  },
  {
   "cell_type": "markdown",
   "metadata": {},
   "source": [
    "문제 84 : 숫자뽑기\n",
    "\n",
    "n개의 수에서 k개의 수를 선택하여 만들 수 있는 수 중에서 가장 큰 수를 출력하세여"
   ]
  },
  {
   "cell_type": "code",
   "execution_count": 30,
   "metadata": {},
   "outputs": [
    {
     "name": "stdout",
     "output_type": "stream",
     "text": [
      "98\n"
     ]
    }
   ],
   "source": [
    "from itertools import permutations\n",
    "\n",
    "user_input = input()\n",
    "k = int(input())\n",
    "l = [i for i in user_input]\n",
    "\n",
    "\n",
    "\n",
    "\n",
    "print(max(list(map(''.join,permutations(l,k)))))"
   ]
  },
  {
   "cell_type": "code",
   "execution_count": null,
   "metadata": {},
   "outputs": [],
   "source": []
  },
  {
   "cell_type": "code",
   "execution_count": null,
   "metadata": {},
   "outputs": [],
   "source": []
  }
 ],
 "metadata": {
  "kernelspec": {
   "display_name": "Python 3",
   "language": "python",
   "name": "python3"
  },
  "language_info": {
   "codemirror_mode": {
    "name": "ipython",
    "version": 3
   },
   "file_extension": ".py",
   "mimetype": "text/x-python",
   "name": "python",
   "nbconvert_exporter": "python",
   "pygments_lexer": "ipython3",
   "version": "3.10.2 (v3.10.2:a58ebcc701, Jan 13 2022, 14:50:16) [Clang 13.0.0 (clang-1300.0.29.30)]"
  },
  "orig_nbformat": 4,
  "vscode": {
   "interpreter": {
    "hash": "aee8b7b246df8f9039afb4144a1f6fd8d2ca17a180786b69acc140d282b71a49"
   }
  }
 },
 "nbformat": 4,
 "nbformat_minor": 2
}
