{
 "cells": [
  {
   "cell_type": "markdown",
   "metadata": {},
   "source": [
    "문제 77 : 가장 긴 공통 부분 문자열\n",
    "\n",
    "두 문자열이 주어지면 가장 긴 부분 공통 문자열의 길이를 반환하는 프로그램을 만들어라.\n",
    "\n",
    "\n"
   ]
  },
  {
   "cell_type": "code",
   "execution_count": 1,
   "metadata": {},
   "outputs": [],
   "source": [
    "data = 'THISISSTRINGS'\n",
    "data2 = 'THISIS'\n",
    "\n",
    "\n"
   ]
  },
  {
   "cell_type": "markdown",
   "metadata": {},
   "source": [
    "문제 78 : 원형테이블\n",
    "마지막으로 남는 음식 ? "
   ]
  },
  {
   "cell_type": "code",
   "execution_count": 5,
   "metadata": {},
   "outputs": [
    {
     "name": "stdout",
     "output_type": "stream",
     "text": [
      "i 0\n",
      "q [1, 2, 3, 4, 5, 6]\n",
      "i 2\n",
      "q [2, 3, 4, 5, 6]\n",
      "i 4\n",
      "q [2, 3, 5, 6]\n",
      "i 2\n",
      "q [3, 5, 6]\n",
      "[3, 5]\n"
     ]
    }
   ],
   "source": [
    "user_input = input().split(' ')\n",
    "n,k = user_input\n",
    "\n",
    "def solution(n,k):\n",
    "    i = 0\n",
    "    q = [i for i in range(1,n+1)]\n",
    "\n",
    "\n",
    "    while len(q)>2:\n",
    "        print(f'i {i}')\n",
    "        print(f'q {q}')\n",
    "        \n",
    "        if i > len(q)-1:\n",
    "            i -= len(q)\n",
    "        q.pop(i)\n",
    "        i +=k\n",
    "        i -= 1\n",
    "\n",
    "\n",
    "    return q\n",
    "\n",
    "print(solution(int(n),int(k)))"
   ]
  },
  {
   "cell_type": "markdown",
   "metadata": {},
   "source": [
    "문제 79 : 순회하는 리스트\n",
    "값이 주어졌을 때 n번 순회한 후,\n",
    "변하기 전 원소와 변한 후의 원소차가 가장 작은 값을 출력하는 프로그램을 작성하시오.\n"
   ]
  },
  {
   "cell_type": "code",
   "execution_count": 7,
   "metadata": {},
   "outputs": [
    {
     "name": "stdout",
     "output_type": "stream",
     "text": [
      "index :  6\n",
      "value :  39 34\n"
     ]
    }
   ],
   "source": [
    "def solution(l, turn):\n",
    "    lCopy = l.copy()\n",
    "    result = []\n",
    "    for i in range(turn):\n",
    "        lCopy.insert(0,lCopy.pop())\n",
    "    for i,j in zip(l,lCopy):\n",
    "        result.append(abs(i-j))\n",
    "    index = result.index(min(result))\n",
    "    print('index : ',index)\n",
    "    print('value : ',l[index],lCopy[index])\n",
    "\n",
    "solution([10,20,25,27,34,35,39],2)"
   ]
  },
  {
   "attachments": {},
   "cell_type": "markdown",
   "metadata": {},
   "source": [
    "문제 80 : 순열과 조합\n",
    "\n",
    "\n"
   ]
  },
  {
   "cell_type": "code",
   "execution_count": 24,
   "metadata": {},
   "outputs": [
    {
     "name": "stdout",
     "output_type": "stream",
     "text": [
      "['ㄱㄴ', 'ㄱㄷ', 'ㄴㄷ']\n"
     ]
    }
   ],
   "source": [
    "from itertools import permutations, combinations\n",
    "\n",
    "##print(list(permutations(test,2)))\n",
    "##print(list(combinations(test,2)))\n",
    "user_input = input().split(',')\n",
    "user_input_int = int(input())\n",
    "\n",
    "\n",
    "print(list(map(''.join,combinations(user_input,user_input_int))))"
   ]
  },
  {
   "cell_type": "code",
   "execution_count": null,
   "metadata": {},
   "outputs": [],
   "source": []
  }
 ],
 "metadata": {
  "kernelspec": {
   "display_name": "Python 3",
   "language": "python",
   "name": "python3"
  },
  "language_info": {
   "codemirror_mode": {
    "name": "ipython",
    "version": 3
   },
   "file_extension": ".py",
   "mimetype": "text/x-python",
   "name": "python",
   "nbconvert_exporter": "python",
   "pygments_lexer": "ipython3",
   "version": "3.10.2"
  },
  "orig_nbformat": 4,
  "vscode": {
   "interpreter": {
    "hash": "aee8b7b246df8f9039afb4144a1f6fd8d2ca17a180786b69acc140d282b71a49"
   }
  }
 },
 "nbformat": 4,
 "nbformat_minor": 2
}
