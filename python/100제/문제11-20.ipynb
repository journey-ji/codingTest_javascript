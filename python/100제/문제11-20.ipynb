{
 "cells": [
  {
   "attachments": {},
   "cell_type": "markdown",
   "metadata": {},
   "source": [
    "문제 11 : for 를 이용한 기본 활용\n",
    "1부터 100까지 더하는 code 를 완성하시오\n"
   ]
  },
  {
   "cell_type": "code",
   "execution_count": 1,
   "metadata": {},
   "outputs": [
    {
     "name": "stdout",
     "output_type": "stream",
     "text": [
      "5050\n"
     ]
    }
   ],
   "source": [
    "s = 0\n",
    "for i in range(1,101):\n",
    "    s +=i\n",
    "print(s)"
   ]
  },
  {
   "attachments": {},
   "cell_type": "markdown",
   "metadata": {},
   "source": [
    "문제 12 : 게임 캐릭터 클래스 만들기\n",
    "\n",
    "클래스를 작성하여 캐릭터 능력치와 파이어볼이 출력되게 하시오\n",
    "\n"
   ]
  },
  {
   "cell_type": "code",
   "execution_count": 3,
   "metadata": {},
   "outputs": [
    {
     "name": "stdout",
     "output_type": "stream",
     "text": [
      "545 210 10\n",
      "파이어볼\n"
     ]
    }
   ],
   "source": [
    "class Wizard:\n",
    "  def __init__(self,health,mana,armor) -> None:\n",
    "    self.health =health\n",
    "    self.mana = mana\n",
    "    self.armor = armor\n",
    "  \n",
    "  def attack(self):\n",
    "    print('파이어볼')\n",
    "\n",
    "  \n",
    "  \n",
    "x = Wizard(health=545,mana=210,armor=10)\n",
    "print(x.health,x.mana,x.armor)\n",
    "x.attack()"
   ]
  },
  {
   "attachments": {},
   "cell_type": "markdown",
   "metadata": {},
   "source": [
    "문제 13 : 몇 번째 행성인가요?\n",
    "태양계의 n 번째 행성을 알려주는 코드를 작성하세요"
   ]
  },
  {
   "cell_type": "code",
   "execution_count": 5,
   "metadata": {},
   "outputs": [
    {
     "name": "stdout",
     "output_type": "stream",
     "text": [
      "수성\n"
     ]
    }
   ],
   "source": [
    "def solution(num):\n",
    "  planet = ['수성','금성','지구','화성','목성','토성','천왕성','해왕성']\n",
    "  print(planet[num-1])\n",
    "\n",
    "solution(1)"
   ]
  },
  {
   "attachments": {},
   "cell_type": "markdown",
   "metadata": {},
   "source": [
    "문제 14 : 3의 배수인가요?\n",
    "랜덤한 숫자 n이 주어지면,\n",
    "3의 배수면 '짝'을 \n",
    "3의 배수가 아니면 n을 그대로 출력해주세요."
   ]
  },
  {
   "cell_type": "code",
   "execution_count": 7,
   "metadata": {},
   "outputs": [
    {
     "name": "stdout",
     "output_type": "stream",
     "text": [
      "짝\n",
      "10\n"
     ]
    }
   ],
   "source": [
    "def solution(n):\n",
    "    if(n%3==0):\n",
    "        print('짝')\n",
    "    else:\n",
    "        print(n)\n",
    "\n",
    "solution(36)\n",
    "solution(10)"
   ]
  },
  {
   "cell_type": "markdown",
   "metadata": {},
   "source": [
    "문제 15 : 자기소개\n",
    "'김다정'이라는 이름이 입력되면 \n",
    "안녕하세요. 저는 김다정입니다. 를 출력해주세요"
   ]
  },
  {
   "cell_type": "code",
   "execution_count": 10,
   "metadata": {},
   "outputs": [
    {
     "name": "stdout",
     "output_type": "stream",
     "text": [
      "안녕하세요. 저는 지창언입니다.\n"
     ]
    }
   ],
   "source": [
    "def solution(name):\n",
    "    print('안녕하세요. 저는 '+name+'입니다.')\n",
    "\n",
    "solution('지창언')"
   ]
  },
  {
   "attachments": {},
   "cell_type": "markdown",
   "metadata": {},
   "source": [
    "문제 16 : 로꾸꺼\n",
    "문장이 입력되면 거꾸로 출력하는 프로그램을 만드세요"
   ]
  },
  {
   "cell_type": "code",
   "execution_count": 18,
   "metadata": {},
   "outputs": [
    {
     "name": "stdout",
     "output_type": "stream",
     "text": [
      "로꾸거\n"
     ]
    }
   ],
   "source": [
    "def solution(stringInput):\n",
    "  result = list(stringInput)\n",
    "  result.reverse()\n",
    "  result = ''.join(result)\n",
    "  print(result)\n",
    "\n",
    "\n",
    "solution('거꾸로')"
   ]
  },
  {
   "cell_type": "markdown",
   "metadata": {},
   "source": [
    "문제 17 : 놀이기구 키 제한\n",
    "입력으로 키가 주어졌을 때,\n",
    "150을 넘으면 YES\n",
    "못넘으면 NO를 출력하세요"
   ]
  },
  {
   "cell_type": "code",
   "execution_count": 21,
   "metadata": {},
   "outputs": [
    {
     "name": "stdout",
     "output_type": "stream",
     "text": [
      "NO\n"
     ]
    }
   ],
   "source": [
    "def solution(height):\n",
    "  if(height>150):\n",
    "    print(\"YES\")\n",
    "  else:\n",
    "    print(\"NO\")\n",
    "solution(150)"
   ]
  },
  {
   "cell_type": "markdown",
   "metadata": {},
   "source": [
    "문제 18 : 평균 점수\n",
    "세 과목의 점수가 주어지면,\n",
    "전체 평균 점수를 구하시오. (소수점은 버립니다.)"
   ]
  },
  {
   "cell_type": "code",
   "execution_count": 36,
   "metadata": {},
   "outputs": [
    {
     "name": "stdout",
     "output_type": "stream",
     "text": [
      "30\n"
     ]
    }
   ],
   "source": [
    "def solution(points):\n",
    "  temp = points.split()\n",
    "  temp = list(map(int,temp))\n",
    "    \n",
    "  print(int(sum(temp)/len(temp)))\n",
    "\n",
    "\n",
    "\n",
    "solution('20 30 40')"
   ]
  },
  {
   "cell_type": "markdown",
   "metadata": {},
   "source": [
    "문제 19 : 제곱을 구하자\n",
    "a의 b승을 구하시오"
   ]
  },
  {
   "cell_type": "code",
   "execution_count": 40,
   "metadata": {},
   "outputs": [
    {
     "name": "stdout",
     "output_type": "stream",
     "text": [
      "27\n"
     ]
    }
   ],
   "source": [
    "def solution(stringInput):\n",
    "  temp = stringInput.split()\n",
    "  temp = list(map(int,temp))\n",
    "\n",
    "  print(pow(temp[0],temp[1]))\n",
    "\n",
    "solution('3 3')"
   ]
  },
  {
   "cell_type": "markdown",
   "metadata": {},
   "source": [
    "문제 20 : 몫과 나머지\n",
    "a를 b로나눈 몫과 나머지를 출력하세요\n"
   ]
  },
  {
   "cell_type": "code",
   "execution_count": 46,
   "metadata": {},
   "outputs": [
    {
     "name": "stdout",
     "output_type": "stream",
     "text": [
      "4 1\n"
     ]
    }
   ],
   "source": [
    "def solution(stringInput):\n",
    "    temp = stringInput.split()\n",
    "    temp = list(map(int,temp))\n",
    "    print(int(temp[0]/temp[1]),temp[0]%temp[1])\n",
    "\n",
    "solution('13 3')"
   ]
  }
 ],
 "metadata": {
  "kernelspec": {
   "display_name": "Python 3",
   "language": "python",
   "name": "python3"
  },
  "language_info": {
   "codemirror_mode": {
    "name": "ipython",
    "version": 3
   },
   "file_extension": ".py",
   "mimetype": "text/x-python",
   "name": "python",
   "nbconvert_exporter": "python",
   "pygments_lexer": "ipython3",
   "version": "3.10.10"
  },
  "orig_nbformat": 4,
  "vscode": {
   "interpreter": {
    "hash": "a018445c9ced489a171e2ed5713138065967a250ec5da02e0021cf641e8e68a8"
   }
  }
 },
 "nbformat": 4,
 "nbformat_minor": 2
}
