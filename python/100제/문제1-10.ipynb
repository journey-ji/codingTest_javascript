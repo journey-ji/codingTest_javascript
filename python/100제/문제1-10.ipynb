{
 "cells": [
  {
   "attachments": {},
   "cell_type": "markdown",
   "metadata": {},
   "source": [
    "문제 1 : 리스트 삭제\n",
    "다음 리스트에서 400,500을 삭제하는 코드를 입력하세요."
   ]
  },
  {
   "cell_type": "code",
   "execution_count": 13,
   "metadata": {},
   "outputs": [
    {
     "name": "stdout",
     "output_type": "stream",
     "text": [
      "[100, 200, 300]\n"
     ]
    }
   ],
   "source": [
    "nums = [100,200,300,400,500]\n",
    "del nums[3:5]\n",
    "## nums = nums[:3]\n",
    "## nums.pop()\n",
    "print(nums)"
   ]
  },
  {
   "attachments": {},
   "cell_type": "markdown",
   "metadata": {},
   "source": [
    "문제 2 : 리스트의 내장함수\n",
    "<pass> 부분에 리스트 내장함수를 insert를 이용하여 다음과 같이 출력되게 하세요.\n",
    "```python\n",
    "[200,100,10000,300]\n",
    "```"
   ]
  },
  {
   "cell_type": "code",
   "execution_count": 17,
   "metadata": {},
   "outputs": [
    {
     "name": "stdout",
     "output_type": "stream",
     "text": [
      "[200, 100, 10000, 300]\n"
     ]
    }
   ],
   "source": [
    "l = [200,100,300]\n",
    "##pass\n",
    "l.insert(2,10000)\n",
    "print(l)"
   ]
  },
  {
   "attachments": {},
   "cell_type": "markdown",
   "metadata": {},
   "source": [
    "문제 3 : 변수의 타입\n",
    "\n",
    "```python\n",
    "l = [100,200,300]\n",
    "print(type(l))\n",
    "```\n",
    "위 출력값으로 옳은 것은?\n",
    "\n",
    "=> class 'list'"
   ]
  },
  {
   "attachments": {},
   "cell_type": "markdown",
   "metadata": {},
   "source": [
    "문제 4 : 변수의 타입2\n",
    "\n",
    "print(type(a)) 의 출력값과의 연결이 틀린 것은?\n",
    "\n",
    "1) 입력 a = 1, 출력: class'int'\n",
    "2) 입력 a = 2.22, 출력 : class'float'\n",
    "3) 입력 a = 'p', 출력 : class'char'\n",
    "4) 입력 a = [1,2,3], 출력 : class'list'\n",
    "\n",
    "=> 3번 \n",
    "==>class'str' 으로 나올 걸"
   ]
  },
  {
   "attachments": {},
   "cell_type": "markdown",
   "metadata": {},
   "source": [
    "문제 5 : for 문 계산\n",
    "다음 코드 출력값은?\n",
    "```python\n",
    "a = 10\n",
    "b = 2\n",
    "for i in range(1,5,2):\n",
    "  a += i\n",
    "print(a+b)\n",
    "```\n",
    "\n",
    "=> 10 + 1 + 3 + 2 = 16"
   ]
  },
  {
   "attachments": {},
   "cell_type": "markdown",
   "metadata": {},
   "source": [
    "문제 6 : False\n",
    "다음중 False로 취급되지 않는 것은?\n",
    "1) None\n",
    "2) 1\n",
    "3) \"\"\n",
    "4) 0\n",
    "5) bool(0)\n",
    "\n",
    "=> 2번 ... 1은 True지,,,"
   ]
  },
  {
   "attachments": {},
   "cell_type": "markdown",
   "metadata": {},
   "source": [
    "문제 7 : 변수명\n",
    "다음 중 변수명 사용이 불가능한 것 2개는 ?\n",
    "1) age\n",
    "2) a\n",
    "3) as\n",
    "4) _age\n",
    "5) 1age\n",
    "\n",
    "=> 3,5 번 \n",
    "==> as는 예약어\n",
    "==> 변수 시작은 숫자가 올 수 없음\n"
   ]
  },
  {
   "attachments": {},
   "cell_type": "markdown",
   "metadata": {},
   "source": [
    "문제 8 : 딕셔너리 키 이름 중복\n",
    "아래 코드 출력값은 ?\n",
    "\n",
    "```python\n",
    "d = {'height':180, 'weight':78,'weight':84, 'temparture':36, 'eyesight':1}\n",
    "print(d['weight'])\n",
    "\n",
    "```\n",
    "\n",
    "\n",
    "=>84\n",
    "가장 새로 입력된 값으로 덮어쓰임\n"
   ]
  },
  {
   "attachments": {},
   "cell_type": "markdown",
   "metadata": {},
   "source": [
    "문제 9 : sep와 end 를 활용한 출력방법\n",
    "다음 소스코드를 완성하여 날짜와 시간을 출력하시오\n",
    "\n",
    "\n",
    "```python\n",
    "year = '2019'\n",
    "month = '04'\n",
    "day = '26'\n",
    "hour = '11'\n",
    "minute = '34'\n",
    "second = '27'\n",
    "\n",
    "print(year,month,day,)\n",
    "print(hour,minute,second,)\n",
    "\n",
    "```"
   ]
  },
  {
   "cell_type": "code",
   "execution_count": 22,
   "metadata": {},
   "outputs": [
    {
     "name": "stdout",
     "output_type": "stream",
     "text": [
      "2019/04/26 11:34:27\n"
     ]
    }
   ],
   "source": [
    "year = '2019'\n",
    "month = '04'\n",
    "day = '26'\n",
    "hour = '11'\n",
    "minute = '34'\n",
    "second = '27'\n",
    "\n",
    "print(year,month,day,sep='/',end=' ')\n",
    "print(hour,minute,second,sep=':')"
   ]
  },
  {
   "attachments": {},
   "cell_type": "markdown",
   "metadata": {},
   "source": [
    "문제 10 : 별 찍기\n",
    "크리스마스트리 찍어주셈"
   ]
  },
  {
   "cell_type": "code",
   "execution_count": 2,
   "metadata": {},
   "outputs": [
    {
     "name": "stdout",
     "output_type": "stream",
     "text": [
      "    *\n",
      "   ***\n",
      "  *****\n",
      " *******\n",
      "*********\n"
     ]
    }
   ],
   "source": [
    "def solution(input):\n",
    "  for i in range(input):\n",
    "    print(' '*(input-i-1)+'*'*(i*2+1))\n",
    "solution(5)"
   ]
  }
 ],
 "metadata": {
  "kernelspec": {
   "display_name": "Python 3",
   "language": "python",
   "name": "python3"
  },
  "language_info": {
   "codemirror_mode": {
    "name": "ipython",
    "version": 3
   },
   "file_extension": ".py",
   "mimetype": "text/x-python",
   "name": "python",
   "nbconvert_exporter": "python",
   "pygments_lexer": "ipython3",
   "version": "3.10.11"
  },
  "orig_nbformat": 4,
  "vscode": {
   "interpreter": {
    "hash": "a018445c9ced489a171e2ed5713138065967a250ec5da02e0021cf641e8e68a8"
   }
  }
 },
 "nbformat": 4,
 "nbformat_minor": 2
}
